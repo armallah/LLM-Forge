{
 "cells": [
  {
   "cell_type": "code",
   "execution_count": 1,
   "id": "1bf60aec-d55b-4fc5-9f79-b63a41c2eb85",
   "metadata": {},
   "outputs": [],
   "source": [
    "import torch\n",
    "import torch.nn as nn \n",
    "from torch.nn import functional as F\n",
    "import mmap\n",
    "import random\n",
    "import pickle\n",
    "import argparse"
   ]
  },
  {
   "cell_type": "code",
   "execution_count": 2,
   "id": "f9fc2ea0-dba3-41f4-8883-b58cf7dd5096",
   "metadata": {},
   "outputs": [
    {
     "name": "stdout",
     "output_type": "stream",
     "text": [
      "cuda\n"
     ]
    }
   ],
   "source": [
    "# parser = argparse.ArgumentParser(description='This is a demonstration program')\n",
    "\n",
    "# # Here we add an argument to the parser, specifying the expected type, a help message, etc.\n",
    "# parser.add_argument('-batch_size', type=str, required=True, help='Please provide a batch_size')\n",
    "\n",
    "# args = parser.parse_args()\n",
    "\n",
    "# # Now we can use the argument value in our program.\n",
    "# print(f'batch size: {args.batch_size}')\n",
    "device = 'cuda' if torch.cuda.is_available() else 'cpu'\n",
    "\n",
    "batch_size = 32\n",
    "block_size = 128\n",
    "learning_rate = 3e-4\n",
    "max_iters = 200\n",
    "eval_iters = 100\n",
    "dropout = 0.2\n",
    "n_embd = 384\n",
    "n_layer= 1\n",
    "n_head = 1\n",
    "\n",
    "print(device)"
   ]
  },
  {
   "cell_type": "code",
   "execution_count": 5,
   "id": "43ddc2ec-a15d-422b-96bf-29698489a677",
   "metadata": {},
   "outputs": [
    {
     "data": {
      "text/plain": [
       "32172"
      ]
     },
     "execution_count": 5,
     "metadata": {},
     "output_type": "execute_result"
    }
   ],
   "source": [
    "with open(\"openwebtext/vocab.txt\", 'r', encoding='utf-8') as f:\n",
    "    text = f.read()\n",
    "chars = sorted(set(text))\n",
    "vocab_size = len(chars)\n",
    "vocab_size"
   ]
  },
  {
   "cell_type": "code",
   "execution_count": 7,
   "id": "05a2ae3e-bcf5-4493-9dc2-7b1e0811adec",
   "metadata": {},
   "outputs": [],
   "source": [
    "string_to_text=  {ch:i for i , ch in enumerate(chars)}\n",
    "int_to_string = {i:ch for i, ch in enumerate(chars)}\n",
    "encode = lambda s: [string_to_text[c] for c in s]\n",
    "decode = lambda l: ''.join([int_to_string[i] for i in l])\n",
    "\n",
    "# data = torch.tensor(encode(text), dtype=torch.long)\n",
    "# print(data[:100])"
   ]
  },
  {
   "cell_type": "code",
   "execution_count": 9,
   "id": "8939c5b2-0ab3-496c-b498-90184e18acbf",
   "metadata": {},
   "outputs": [],
   "source": [
    "def get_random_chunk(split, Q=1):\n",
    "    filename = \"openwebtext/output_train.txt\" if split == \"train\" else \"openwebtext/output_val.txt\"\n",
    "    with open(filename, \"rb\") as f:\n",
    "        with mmap.mmap(f.fileno(), 0, access=mmap.ACCESS_READ) as mm:\n",
    "            file_size = len(mm)\n",
    "            start_pos = random.randint(0 , (file_size) - Q*block_size*batch_size)\n",
    "\n",
    "            #seek to random pos\n",
    "            mm.seek(start_pos)\n",
    "            block = mm.read(Q*block_size*batch_size-1)\n",
    "\n",
    "            #decode binary\n",
    "            decoded_block = block.decode(\"utf-8\", errors=\"ignore\").replace(\"\\r\",\"\")\n",
    "\n",
    "            #train test splts\n",
    "            data = torch.tensor(encode(decoded_block), dtype=torch.long)\n",
    "    return data\n",
    "    "
   ]
  },
  {
   "cell_type": "code",
   "execution_count": 11,
   "id": "e1d6a975-0901-4fe4-8528-3982da9c82a6",
   "metadata": {},
   "outputs": [],
   "source": [
    "def get_batch(split):\n",
    "    data = get_random_chunk(split)\n",
    "    ix = torch.randint(len(data) - block_size, (batch_size, )) #take random index from 0 to block size\n",
    "    x = torch.stack([data[i : i+block_size] for i in ix])\n",
    "    y = torch.stack([data[i+1:i+block_size+1] for i in ix])\n",
    "    x, y = x.to(device) ,y.to(device)\n",
    "    return x, y\n"
   ]
  },
  {
   "cell_type": "code",
   "execution_count": 13,
   "id": "0a73a156-188f-4c57-a418-ae3440510a5d",
   "metadata": {},
   "outputs": [],
   "source": [
    "@torch.no_grad()\n",
    "def estimate_loss():\n",
    "    out= {}\n",
    "    model.eval()\n",
    "    for split in ['train', 'val']:\n",
    "        losses= torch.zeros(eval_iters)\n",
    "        for k in range(eval_iters):\n",
    "            X, Y = get_batch(split)\n",
    "            logits, loss = model(X,Y)\n",
    "            losses[k] = loss.item()\n",
    "        out[split] = losses.mean()\n",
    "    model.train()\n",
    "    return out"
   ]
  },
  {
   "cell_type": "code",
   "execution_count": 21,
   "id": "b2118eed-04e5-4fd3-8d5b-176b19a4f333",
   "metadata": {},
   "outputs": [
    {
     "name": "stdout",
     "output_type": "stream",
     "text": [
      "loading model parameters...\n",
      "load successfully\n"
     ]
    }
   ],
   "source": [
    "class Head(nn.Module):\n",
    "\n",
    "    def __init__(self, head_size):\n",
    "        super().__init__()\n",
    "        self.key = nn.Linear(n_embd, head_size, bias=False)\n",
    "        self.query = nn.Linear(n_embd, head_size, bias=False)\n",
    "        self.value = nn.Linear(n_embd, head_size, bias=False)\n",
    "        self.register_buffer(\"tril\", torch.tril(torch.ones(block_size, block_size)))\n",
    "\n",
    "        self.dropout = nn.Dropout(dropout)\n",
    "\n",
    "    def forward(self, x):\n",
    "        B,T,C = x.shape\n",
    "        k = self.key(x)\n",
    "        q = self.query(x)\n",
    "        wei = q @ k.transpose(-2,-1) * k.shape[-1]**-0.5\n",
    "        wei = wei.masked_fill(self.tril[:T, :T] == 0, float(\"-inf\"))\n",
    "        wei = F.softmax(wei, dim=-1)\n",
    "        wei = self.dropout(wei)\n",
    "        v = self.value(x)\n",
    "        out = wei @ v\n",
    "        return out\n",
    "    \n",
    "class  MultiHeadAttention(nn.Module):\n",
    "    def __init__(self, num_heads, head_size):\n",
    "        super().__init__()\n",
    "        self.heads = nn.ModuleList([Head(head_size) for _ in range(num_heads)])\n",
    "        self.proj = nn.Linear(head_size * num_heads, n_embd) ## \n",
    "        self.dropout = nn.Dropout(dropout)\n",
    "    \n",
    "    def forward(self, x):\n",
    "        out = torch.cat([h(x) for h in self.heads], dim=-1) # (B, T, F) - > (B, T, [h1, h2, h3])\n",
    "        out = self.dropout(self.proj(out))\n",
    "        return out\n",
    "\n",
    "\n",
    "class FeedForward(nn.Module):\n",
    "    def __init__(self, n_embd):\n",
    "        super().__init__()\n",
    "        self.net = nn.Sequential(\n",
    "            nn.Linear(n_embd, 4 * n_embd), \n",
    "            nn.ReLU(),\n",
    "            nn.Linear(4 * n_embd, n_embd),\n",
    "            nn.Dropout(dropout),\n",
    "        )\n",
    "\n",
    "    def forward(self,x ):\n",
    "        return self.net(x)\n",
    "        \n",
    "class Block(nn.Module):\n",
    "    def __init__(self, n_embd, n_head):\n",
    "        super().__init__()\n",
    "        head_size=  n_embd // n_head\n",
    "        self.sa = MultiHeadAttention(n_head, head_size)\n",
    "        #FF-NN\n",
    "        self.ffwd = FeedForward(n_embd)\n",
    "        #add + norm, post-norm architecture /\\ (X + Y) , Y -> F(X)\n",
    "        self.ln1 = nn.LayerNorm(n_embd)\n",
    "        self.ln2 = nn.LayerNorm(n_embd)\n",
    "\n",
    "    def forward(self, x):\n",
    "        y = self.sa(x)\n",
    "        x = self.ln1(x+y)\n",
    "        y = self.ffwd(x)\n",
    "        x = self.ln2(x+y)\n",
    "        return x\n",
    "        \n",
    "class GPTLanguageModel(nn.Module):\n",
    "    def __init__(self, vocab_size):\n",
    "        super().__init__()\n",
    "        self.token_embedding_table = nn.Embedding(vocab_size, n_embd)\n",
    "        self.position_embedding_table = nn.Embedding(block_size, n_embd) #positional encoding\n",
    "        self.blocks = nn.Sequential(*[Block(n_embd, n_head=n_head) for _ in range(n_layer)]) #hidden D-layer(s)\n",
    "        self.ln_f = nn.LayerNorm(n_embd) #layer normalisation\n",
    "        self.lm_head = nn.Linear(n_embd, vocab_size) #linear transformation\n",
    "\n",
    "        self.apply(self._init_weights)\n",
    "\n",
    "    def _init_weights(self, module):\n",
    "        if isinstance(module, nn.Linear):\n",
    "            torch.nn.init.normal_(module.weight, mean=0.0, std=0.02)\n",
    "            if module.bias is not None:\n",
    "                torch.nn.init.zeros_(module.bias)\n",
    "        elif isinstance(module, nn.Embedding):\n",
    "            torch.nn.init.normal_(module.weight, mean=0.0, std=0.02)\n",
    "    \n",
    "    def forward(self, index, targets=None):\n",
    "        # B, T, C = logits.shape\n",
    "        B , T = index.shape\n",
    "\n",
    "        tok_emb = self.token_embedding_table(index) # B , T , C\n",
    "        pos_emb = self.position_embedding_table(torch.arange(T, device=device)) # T,C \n",
    "        x= tok_emb + pos_emb # B, T, C\n",
    "        x = self.blocks(x) # B, T, C\n",
    "        x = self.ln_f(x) # B, T,C \n",
    "        logits = self.lm_head(x) # B, T, VOCAB_SIZE\n",
    "\n",
    "        if targets is None:\n",
    "            loss = None\n",
    "        else:\n",
    "            #BATCH, TIME / SEQ LENGTH, VOCAB SIZE / CHANNEL\n",
    "            B, T, C = logits.shape\n",
    "            logits = logits.view(B*T, C)\n",
    "            targets= targets.view(B*T)\n",
    "            loss = F.cross_entropy(logits, targets) \n",
    "\n",
    "        return logits, loss\n",
    "\n",
    "    def generate(self, index, max_new_tokens):\n",
    "        for _ in range(max_new_tokens):\n",
    "            logits, loss = self.forward(index)\n",
    "            logits = logits[: , - 1, :] #becomes (B,C), last time sample\n",
    "            probs = F.softmax(logits, dim=-1) #(B, C) where vocab dimension=[:-1]\n",
    "            index_next = torch.multinomial(probs, num_samples=1) #(B, 1 )\n",
    "            index = torch.cat((index, index_next), dim=1) # (B, T+1)\n",
    "\n",
    "        return index\n",
    "\n",
    "    def getEmbedding(self):\n",
    "        return self.token_embedding_table\n",
    "        \n",
    "print(\"loading model parameters...\")\n",
    "try:\n",
    "    with open('model-01.pkl' ,'rb') as f:\n",
    "        model = pickle.load(f)\n",
    "    print(\"load successfully\")\n",
    "    m = model.to(device)\n",
    "except:\n",
    "    print(\"no model found, creating new model\")\n",
    "    model = GPTLanguageModel(vocab_size)\n",
    "    m = model.to(device)\n",
    "\n",
    "# context = torch.zeros((1,1), dtype=torch.long, device=device) \n",
    "# generated_chars = decode(m.generate(context, max_new_tokens=500)[0].tolist())\n",
    "# print(generated_chars)\n",
    "# generated_chars_raw = m.generate(context, max_new_tokens=500)\n",
    "# print(generated_chars_raw)\n",
    "\n"
   ]
  },
  {
   "cell_type": "code",
   "execution_count": null,
   "id": "cdd78af3-2ae8-4384-a0b4-745f118253f8",
   "metadata": {},
   "outputs": [
    {
     "name": "stdout",
     "output_type": "stream",
     "text": [
      "step: 0 , train loss: 2.480, val loss: 2.317\n",
      "step: 100 , train loss: 2.280, val loss: 2.296\n"
     ]
    }
   ],
   "source": [
    "optimiser = torch.optim.AdamW(model.parameters(), lr=learning_rate)\n",
    "\n",
    "for iter in range(max_iters):\n",
    "    # print(iter)\n",
    "    if iter % eval_iters == 0:\n",
    "        losses = estimate_loss()\n",
    "        print(f\"step: {iter} , train loss: {losses['train']:.3f}, val loss: {losses['val']:.3f}\")\n",
    "    #sample batch data\n",
    "    xb, yb = get_batch('train') #in, ot\n",
    "\n",
    "    #eval loss\n",
    "    logits, loss = model.forward(xb, yb)\n",
    "    optimiser.zero_grad(set_to_none = True) #enable for RNNs\n",
    "    loss.backward()\n",
    "    optimiser.step()\n",
    "print(loss.item())\n",
    "\n",
    "\n",
    "with open('model-01.pkl', 'wb') as f:\n",
    "    pickle.dump(model, f)"
   ]
  },
  {
   "cell_type": "code",
   "execution_count": null,
   "id": "bcd4ce71-81b5-4b84-b82d-2f5c3994eefd",
   "metadata": {},
   "outputs": [],
   "source": [
    "context = torch.zeros((1,1), dtype=torch.long, device=device) #(1,1) being new space char, starting context\n",
    "generated_chars = decode(m.generate(context, max_new_tokens=500)[0].tolist())\n",
    "print(generated_chars)"
   ]
  },
  {
   "cell_type": "code",
   "execution_count": null,
   "id": "bdc1293d-f1b2-4042-93ba-48938654ba97",
   "metadata": {},
   "outputs": [],
   "source": []
  }
 ],
 "metadata": {
  "kernelspec": {
   "display_name": "cuda-gpt",
   "language": "python",
   "name": "cuda"
  },
  "language_info": {
   "codemirror_mode": {
    "name": "ipython",
    "version": 3
   },
   "file_extension": ".py",
   "mimetype": "text/x-python",
   "name": "python",
   "nbconvert_exporter": "python",
   "pygments_lexer": "ipython3",
   "version": "3.12.4"
  }
 },
 "nbformat": 4,
 "nbformat_minor": 5
}
