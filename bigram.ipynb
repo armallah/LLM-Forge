{
 "cells": [
  {
   "cell_type": "code",
   "execution_count": 38,
   "id": "04ffd847-2d85-4ae1-aff7-fc1ebc620aff",
   "metadata": {},
   "outputs": [],
   "source": [
    "import torch"
   ]
  },
  {
   "cell_type": "code",
   "execution_count": 40,
   "id": "25f476e7-d1de-4acc-b07b-c44690d6dd40",
   "metadata": {},
   "outputs": [
    {
     "name": "stdout",
     "output_type": "stream",
     "text": [
      "cuda\n"
     ]
    }
   ],
   "source": [
    "device = 'cuda' if torch.cuda.is_available() else 'cpu'\n",
    "print(device)\n",
    "block_size = 8\n",
    "batch_size = 4"
   ]
  },
  {
   "cell_type": "code",
   "execution_count": 42,
   "id": "10344598-774a-4a71-8e40-018c7385aee0",
   "metadata": {},
   "outputs": [
    {
     "name": "stdout",
     "output_type": "stream",
     "text": [
      "['\\n', ' ', '!', '(', ')', ',', '-', '.', '0', '1', '9', ':', ';', '?', 'A', 'B', 'C', 'D', 'E', 'F', 'G', 'H', 'I', 'J', 'K', 'L', 'M', 'N', 'O', 'P', 'Q', 'R', 'S', 'T', 'U', 'V', 'W', 'X', 'Y', 'Z', 'a', 'b', 'c', 'd', 'e', 'f', 'g', 'h', 'i', 'j', 'k', 'l', 'm', 'n', 'o', 'p', 'q', 'r', 's', 't', 'u', 'v', 'w', 'x', 'y', 'z', '—', '‘', '’', '“', '”', '\\ufeff']\n"
     ]
    }
   ],
   "source": [
    "with open(\"wizard_of_oz.txt\", 'r', encoding='utf-8') as f:\n",
    "    text = f.read()\n",
    "chars = sorted(set(text))\n",
    "print(chars)"
   ]
  },
  {
   "cell_type": "code",
   "execution_count": 44,
   "id": "37e9f40d-ed4f-4621-907d-a2e49a1809ca",
   "metadata": {},
   "outputs": [],
   "source": [
    "string_to_text=  {ch:i for i , ch in enumerate(chars)}\n",
    "# Output: {'a': 0, 'b': 1, 'c': 2, 'd': 3, 'e': 4, ..., 'z': 25}\n",
    "int_to_string = {i:ch for i, ch in enumerate(chars)}\n",
    "# Output: {0: 'a', 1: 'b', 2: 'c', 3: 'd', 4: 'e', ..., 25: 'z'}\n",
    "\n",
    "encode = lambda s: [string_to_text[c] for c in s]\n",
    "# Output: [7, 4, 11, 11, 14]\n",
    "\n",
    "decode = lambda l: ''.join([int_to_string[i] for i in l])\n",
    "# Output: \"hello\""
   ]
  },
  {
   "cell_type": "code",
   "execution_count": 46,
   "id": "fb5cbd6e-e415-4e13-abe4-1cab6bd13a77",
   "metadata": {},
   "outputs": [
    {
     "name": "stdout",
     "output_type": "stream",
     "text": [
      "tensor([71, 22, 53, 59, 57, 54, 43, 60, 42, 59, 48, 54, 53,  0,  0,  0, 19, 54,\n",
      "        51, 50, 51, 54, 57, 44,  5,  1, 51, 44, 46, 44, 53, 43, 58,  5,  1, 52,\n",
      "        64, 59, 47, 58,  1, 40, 53, 43,  1, 45, 40, 48, 57, 64,  1, 59, 40, 51,\n",
      "        44, 58,  1, 47, 40, 61, 44,  1, 45, 54, 51, 51, 54, 62, 44, 43,  1, 42,\n",
      "        47, 48, 51, 43, 47, 54, 54, 43,  0, 59, 47, 57, 54, 60, 46, 47,  1, 59,\n",
      "        47, 44,  1, 40, 46, 44, 58,  5,  1, 45])\n"
     ]
    }
   ],
   "source": [
    "data = torch.tensor(encode(text), dtype=torch.long)\n",
    "print(data[:100])\n"
   ]
  },
  {
   "cell_type": "code",
   "execution_count": 48,
   "id": "d307d900-1bd1-4cb3-9123-d95bcc777aca",
   "metadata": {},
   "outputs": [],
   "source": [
    "n = int(0.8*len(data))\n",
    "train_data = data[:n]\n",
    "val_data = data[n:]"
   ]
  },
  {
   "cell_type": "code",
   "execution_count": 28,
   "id": "4d81fa5b-a0dd-42b0-ab46-a4c275156856",
   "metadata": {},
   "outputs": [
    {
     "name": "stdout",
     "output_type": "stream",
     "text": [
      "when input is tensor([71]) target is tensor(22)\n",
      "when input is tensor([71, 22]) target is tensor(53)\n",
      "when input is tensor([71, 22, 53]) target is tensor(59)\n",
      "when input is tensor([71, 22, 53, 59]) target is tensor(57)\n",
      "when input is tensor([71, 22, 53, 59, 57]) target is tensor(54)\n",
      "when input is tensor([71, 22, 53, 59, 57, 54]) target is tensor(43)\n",
      "when input is tensor([71, 22, 53, 59, 57, 54, 43]) target is tensor(60)\n",
      "when input is tensor([71, 22, 53, 59, 57, 54, 43, 60]) target is tensor(42)\n"
     ]
    }
   ],
   "source": [
    "block_size = 8\n",
    "# how a language model might be trained to predict the next token given a context.\n",
    "x = train_data[:block_size]\n",
    "y=  train_data[1:block_size+1]\n",
    "\n",
    "for t in range(block_size):\n",
    "    context = x[:t+1]\n",
    "    target = y[t]\n",
    "    print(\"when input is\", context, \"target is\", target)"
   ]
  },
  {
   "cell_type": "code",
   "execution_count": null,
   "id": "29d79a89-4c1b-40d3-a0e1-7138c7ae85b3",
   "metadata": {},
   "outputs": [],
   "source": []
  }
 ],
 "metadata": {
  "kernelspec": {
   "display_name": "cuda-gpt",
   "language": "python",
   "name": "cuda"
  },
  "language_info": {
   "codemirror_mode": {
    "name": "ipython",
    "version": 3
   },
   "file_extension": ".py",
   "mimetype": "text/x-python",
   "name": "python",
   "nbconvert_exporter": "python",
   "pygments_lexer": "ipython3",
   "version": "3.12.4"
  }
 },
 "nbformat": 4,
 "nbformat_minor": 5
}
