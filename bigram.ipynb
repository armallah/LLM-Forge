{
 "cells": [
  {
   "cell_type": "code",
   "execution_count": 21,
   "id": "04ffd847-2d85-4ae1-aff7-fc1ebc620aff",
   "metadata": {},
   "outputs": [],
   "source": [
    "import torch\n",
    "import torch.nn as nn \n",
    "from torch.nn import functional as F"
   ]
  },
  {
   "cell_type": "code",
   "execution_count": 89,
   "id": "25f476e7-d1de-4acc-b07b-c44690d6dd40",
   "metadata": {},
   "outputs": [
    {
     "name": "stdout",
     "output_type": "stream",
     "text": [
      "cuda\n"
     ]
    }
   ],
   "source": [
    "device = 'cuda' if torch.cuda.is_available() else 'cpu'\n",
    "print(device)\n",
    "block_size = 8\n",
    "batch_size = 4\n",
    "learning_rate = 3e-4\n",
    "max_iters = 10000\n",
    "#eval_interval = 2500"
   ]
  },
  {
   "cell_type": "code",
   "execution_count": 35,
   "id": "10344598-774a-4a71-8e40-018c7385aee0",
   "metadata": {},
   "outputs": [
    {
     "name": "stdout",
     "output_type": "stream",
     "text": [
      "['\\n', ' ', '!', '(', ')', ',', '-', '.', '0', '1', '9', ':', ';', '?', 'A', 'B', 'C', 'D', 'E', 'F', 'G', 'H', 'I', 'J', 'K', 'L', 'M', 'N', 'O', 'P', 'Q', 'R', 'S', 'T', 'U', 'V', 'W', 'X', 'Y', 'Z', 'a', 'b', 'c', 'd', 'e', 'f', 'g', 'h', 'i', 'j', 'k', 'l', 'm', 'n', 'o', 'p', 'q', 'r', 's', 't', 'u', 'v', 'w', 'x', 'y', 'z', '—', '‘', '’', '“', '”', '\\ufeff']\n"
     ]
    }
   ],
   "source": [
    "with open(\"wizard_of_oz.txt\", 'r', encoding='utf-8') as f:\n",
    "    text = f.read()\n",
    "chars = sorted(set(text))\n",
    "print(chars)\n",
    "vocab_size = len(chars)"
   ]
  },
  {
   "cell_type": "code",
   "execution_count": 37,
   "id": "37e9f40d-ed4f-4621-907d-a2e49a1809ca",
   "metadata": {},
   "outputs": [],
   "source": [
    "string_to_text=  {ch:i for i , ch in enumerate(chars)}\n",
    "# Output: {'a': 0, 'b': 1, 'c': 2, 'd': 3, 'e': 4, ..., 'z': 25}\n",
    "int_to_string = {i:ch for i, ch in enumerate(chars)}\n",
    "# Output: {0: 'a', 1: 'b', 2: 'c', 3: 'd', 4: 'e', ..., 25: 'z'}\n",
    "\n",
    "encode = lambda s: [string_to_text[c] for c in s]\n",
    "# Output: [7, 4, 11, 11, 14]\n",
    "\n",
    "decode = lambda l: ''.join([int_to_string[i] for i in l])\n",
    "# Output: \"hello\""
   ]
  },
  {
   "cell_type": "code",
   "execution_count": 39,
   "id": "fb5cbd6e-e415-4e13-abe4-1cab6bd13a77",
   "metadata": {},
   "outputs": [
    {
     "name": "stdout",
     "output_type": "stream",
     "text": [
      "tensor([71, 22, 53, 59, 57, 54, 43, 60, 42, 59, 48, 54, 53,  0,  0,  0, 19, 54,\n",
      "        51, 50, 51, 54, 57, 44,  5,  1, 51, 44, 46, 44, 53, 43, 58,  5,  1, 52,\n",
      "        64, 59, 47, 58,  1, 40, 53, 43,  1, 45, 40, 48, 57, 64,  1, 59, 40, 51,\n",
      "        44, 58,  1, 47, 40, 61, 44,  1, 45, 54, 51, 51, 54, 62, 44, 43,  1, 42,\n",
      "        47, 48, 51, 43, 47, 54, 54, 43,  0, 59, 47, 57, 54, 60, 46, 47,  1, 59,\n",
      "        47, 44,  1, 40, 46, 44, 58,  5,  1, 45])\n"
     ]
    }
   ],
   "source": [
    "data = torch.tensor(encode(text), dtype=torch.long)\n",
    "print(data[:100])\n"
   ]
  },
  {
   "cell_type": "code",
   "execution_count": 41,
   "id": "d307d900-1bd1-4cb3-9123-d95bcc777aca",
   "metadata": {},
   "outputs": [],
   "source": [
    "n = int(0.8*len(data))\n",
    "train_data = data[:n]\n",
    "val_data = data[n:]"
   ]
  },
  {
   "cell_type": "code",
   "execution_count": 43,
   "id": "4d81fa5b-a0dd-42b0-ab46-a4c275156856",
   "metadata": {},
   "outputs": [
    {
     "name": "stdout",
     "output_type": "stream",
     "text": [
      "when input is tensor([71]) target is tensor(22)\n",
      "when input is tensor([71, 22]) target is tensor(53)\n",
      "when input is tensor([71, 22, 53]) target is tensor(59)\n",
      "when input is tensor([71, 22, 53, 59]) target is tensor(57)\n",
      "when input is tensor([71, 22, 53, 59, 57]) target is tensor(54)\n",
      "when input is tensor([71, 22, 53, 59, 57, 54]) target is tensor(43)\n",
      "when input is tensor([71, 22, 53, 59, 57, 54, 43]) target is tensor(60)\n",
      "when input is tensor([71, 22, 53, 59, 57, 54, 43, 60]) target is tensor(42)\n"
     ]
    }
   ],
   "source": [
    "block_size = 8\n",
    "# how a language model might be trained to predict the next token given a context.\n",
    "x = train_data[:block_size]\n",
    "y=  train_data[1:block_size+1]\n",
    "\n",
    "for t in range(block_size):\n",
    "    context = x[:t+1]\n",
    "    target = y[t]\n",
    "    print(\"when input is\", context, \"target is\", target)"
   ]
  },
  {
   "cell_type": "code",
   "execution_count": 95,
   "id": "29d79a89-4c1b-40d3-a0e1-7138c7ae85b3",
   "metadata": {},
   "outputs": [
    {
     "name": "stdout",
     "output_type": "stream",
     "text": [
      "inputs: tensor([[ 1, 51, 54, 53, 44, 51, 64,  1],\n",
      "        [ 0, 33, 47, 48, 58,  1, 62, 40],\n",
      "        [ 1, 40, 45, 57, 40, 48, 43,  5],\n",
      "        [64, 44, 58,  7, 68,  0,  0, 69]], device='cuda:0')\n",
      "targets: tensor([[51, 54, 53, 44, 51, 64,  1, 51],\n",
      "        [33, 47, 48, 58,  1, 62, 40, 58],\n",
      "        [40, 45, 57, 40, 48, 43,  5,  1],\n",
      "        [44, 58,  7, 68,  0,  0, 69, 67]], device='cuda:0')\n"
     ]
    }
   ],
   "source": [
    "def get_batch(split):\n",
    "    data = train_data if split == \"train\" else val_data\n",
    "    ix = torch.randint(len(data) - block_size, (batch_size, )) #take random index from 0 to block size\n",
    "    #ix = torch.randint(165352 - 8 , (4, )) , get randome int from 0 to 165346\n",
    "    # print(len(data), block_size, batch_size)\n",
    "    # print(ix)\n",
    "    x = torch.stack([data[i : i+block_size] for i in ix])\n",
    "    y = torch.stack([data[i+1:i+block_size+1] for i in ix])\n",
    "    x, y = x.to(device) ,y.to(device)\n",
    "    return x, y\n",
    "\n",
    "x, y = get_batch('train')\n",
    "print(\"inputs:\",x )\n",
    "print(\"targets:\" , y)"
   ]
  },
  {
   "cell_type": "code",
   "execution_count": 97,
   "id": "eb043dd2-172f-44a5-bed9-e7446ae3847c",
   "metadata": {},
   "outputs": [
    {
     "name": "stdout",
     "output_type": "stream",
     "text": [
      "\n",
      ",QixhJo-EGzxpdexpiCvCjeTwblb’T.?RwcgAk.eY)tSEJwq(\n",
      "GRtieA.uHVA\n",
      "fG-,mULbURGq-x\n",
      "aH﻿VF sWZK p(jB(s’ZM(.ZEoQie9s’UDbaw:—tBogj?;’ZVLTIN, KzJ’)9eTL,EovP:xD.RcN”d:;?zzRqW1Z9CkcfOaL,lAXwhTmqu0r9stiHLqhDuXkZZXlmUIP,MjI(jo0U!GOG:uVg)dY“.mMr﻿﻿0WD.G;p’!B—u“aXwbE9Y,fUR-Vuu“—VcR9bZRK!zEHW’1WG﻿bUCzj)akwAK‘Y)KgCEeizg,‘”HN1LJQ.K:h0fToVuu9.pd!;?(y”TI—AK0BNx0CgatfxCUcdpdVR”DzmAXw’A0SkrCO9:,‘W‘zFID0WFchwIyhTIawdNpR.ButDwW(a(— QCvP—\n",
      "!DTeR”lEMBdLO:x-!ymVuMoMR.R0IcAHtieD)DzBvtSN(ENm‘Q—nZ9HWot1 .zpI.RyOYXwLQC1 kj:\n",
      "xABSM\n",
      "tensor([[ 0, 18, 50,  8, 35,  1, 38,  4, 11, 55, 40, 22, 43, 49, 11, 65, 64, 14,\n",
      "         22, 22, 42, 43, 16, 49, 43, 22, 42, 68, 54, 54, 66, 50,  6,  2, 70, 71,\n",
      "         59, 62, 21, 41, 34,  6, 69, 20, 66,  0,  9, 53, 12, 17, 20, 37, 46, 69,\n",
      "         45, 49, 41,  7, 47, 44, 33, 50, 65, 23, 62, 25, 41, 51, 30, 48, 49, 53,\n",
      "         54,  0,  8, 51, 14, 21, 58, 47, 64,  5, 47, 12, 62, 25, 23, 44, 13, 30,\n",
      "         32, 14, 21, 48,  7,  3, 19,  3, 34,  6,  5, 54,  0, 29, 65, 64, 70, 29,\n",
      "         13, 14, 37, 62, 16, 61, 26, 12, 57, 70, 56, 55, 47, 35, 55, 52, 60, 65,\n",
      "         68, 54, 59, 48, 19, 16, 26, 51, 53, 43, 11, 13, 56, 25, 24, 51, 16, 68,\n",
      "         39, 39, 57, 10, 39, 28, 25, 28, 54, 64, 39, 59, 31, 60, 59,  4, 64, 57,\n",
      "         24, 41, 44, 17,  8, 46, 65, 23,  8,  0, 40, 57, 39, 63, 19, 10, 21, 45,\n",
      "         35, 19, 29, 33, 50,  6, 45, 28, 21, 34, 36, 38,  4, 64, 39, 21, 70, 10,\n",
      "          5, 45, 30, 16, 61,  9,  8, 70,  3, 50, 11, 58, 41, 51, 51, 66, 25, 23,\n",
      "         68, 39, 50, 27, 53, 57, 41,  1, 66, 45, 30, 46, 21,  7, 34, 62, 29,  7,\n",
      "         28,  7, 59, 48, 27, 26, 47, 69, 39, 16,  5, 50, 49, 22, 27,  3, 19, 47,\n",
      "         64, 46, 50, 24, 51, 58, 16, 14,  6, 26, 14, 65, 23, 29, 41, 59,  6, 16,\n",
      "         65, 15, 45, 33, 44, 32, 55, 43,  2, 15, 65, 61, 59, 31, 52, 26, 19, 30,\n",
      "         48, 59, 56,  9, 50, 70, 50, 39, 32, 61, 57, 52, 18, 50, 57, 58, 37, 23,\n",
      "         53, 46, 21, 35, 52, 34, 38, 42, 59, 48,  7, 56, 41, 39, 50, 42, 69, 40,\n",
      "         23, 58, 49, 20,  6, 63, 62, 41, 36, 31, 70, 63, 46, 17, 65, 62, 10,  9,\n",
      "         47, 64, 50, 15, 33, 50, 38, 16, 23, 29,  6,  5, 15, 56, 56, 25, 52, 65,\n",
      "         63, 69,  7, 45, 27, 39, 18,  7,  7, 53, 36, 51, 14, 15, 65, 62, 25, 10,\n",
      "         21, 45,  4, 24, 48, 60,  2, 60,  4, 71, 40, 31, 65, 71, 35, 60, 39, 21,\n",
      "         30, 19, 26, 14, 17,  6, 64, 21, 55, 62, 20, 11, 35, 65, 69, 32, 64, 40,\n",
      "         10,  2, 33, 40, 26, 35, 61, 50, 42, 42, 67, 31, 64, 37, 51, 51, 33, 47,\n",
      "         26, 42, 35, 31, 60, 65, 62, 42, 32, 17, 70, 31, 70, 66, 14, 28, 65, 57,\n",
      "         63,  1, 24, 27,  6, 69, 38, 37, 46,  9, 36, 48, 65, 23,  4, 30, 70, 13,\n",
      "         40, 38, 16, 46, 29, 31,  7, 71, 70, 13, 60,  2, 40, 19, 21,  6, 69,  7,\n",
      "         71,  1, 61, 64, 70, 41, 18, 36, 14,  7, 40, 50,  1,  7, 40]],\n",
      "       device='cuda:0')\n"
     ]
    }
   ],
   "source": [
    "class BigramLanguageModel(nn.Module):\n",
    "    def __init__(self, vocab_size):\n",
    "        super().__init__()\n",
    "        self.token_embedding_table = nn.Embedding(vocab_size, vocab_size)\n",
    "    \n",
    "    def forward(self, index, targets=None):\n",
    "\n",
    "        logits = self.token_embedding_table(index)\n",
    "\n",
    "        if targets is None:\n",
    "            loss = None\n",
    "        else:\n",
    "            B, T, C = logits.shape\n",
    "            #BATCH, TIME / SEQ LENGTH, VOCAB SIZE / CHANNEL\n",
    "            logits = logits.view(B*T, C)\n",
    "            #flattens the batch and time dimensions into one\n",
    "            targets= targets.view(B*T)\n",
    "            loss = F.cross_entropy(logits, targets) \n",
    "\n",
    "        return logits, loss\n",
    "\n",
    "    def generate(self, index, max_new_tokens):\n",
    "        for _ in range(max_new_tokens):\n",
    "            #get predictiosn\n",
    "            logits, loss = self.forward(index)\n",
    "            #focus on last time step\n",
    "            logits = logits[: , - 1, :] #becomes (B,C), last time sample\n",
    "            #apply softmax to get p(x)\n",
    "            probs = F.softmax(logits, dim=-1) #(B, C) where vocab dimension=[:-1]\n",
    "            #sample from dist\n",
    "            index_next = torch.multinomial(probs, num_samples=1) #(B, 1 )\n",
    "            #append smapled index to the running sequences\n",
    "            index = torch.cat((index, index_next), dim=1) # (B, T+1)\n",
    "\n",
    "        return index\n",
    "\n",
    "    def getEmbedding(self):\n",
    "        return self.token_embedding_table\n",
    "\n",
    "# c = BigramLanguageModel(vocab_size)\n",
    "# c.getEmbedding()\n",
    "\n",
    "model = BigramLanguageModel(vocab_size)\n",
    "m = model.to(device)\n",
    "\n",
    "context = torch.zeros((1,1), dtype=torch.long, device=device) #(1,1) being new space char, starting context\n",
    "generated_chars = decode(m.generate(context, max_new_tokens=500)[0].tolist())\n",
    "print(generated_chars)\n",
    "generated_chars_raw = m.generate(context, max_new_tokens=500)\n",
    "print(generated_chars_raw)\n",
    "\n"
   ]
  },
  {
   "cell_type": "code",
   "execution_count": null,
   "id": "f47d5b55-2065-4126-8a47-e6fd4869d83f",
   "metadata": {},
   "outputs": [],
   "source": [
    "optimiser = torch.optim.AdamW(model.parameters(), lr=learning_rate)\n",
    "\n",
    "for iter in range(max_iters):\n",
    "    #sample data\n",
    "    xb, yb = get_batch('train') #in, ot\n",
    "\n",
    "    #eval loss\n",
    "    logits, loss = model.forward(xb, yb)\n",
    "    optimiser.zero_grad(set_to_none = True) #enable for RNNs\n",
    "    loss.backward()\n",
    "    optimiser.step()\n",
    "print(loss.item())"
   ]
  },
  {
   "cell_type": "code",
   "execution_count": null,
   "id": "e99b227a-e9bc-4edb-bf29-cb803a34750b",
   "metadata": {},
   "outputs": [],
   "source": [
    "context = torch.zeros((1,1), dtype=torch.long, device=device) #(1,1) being new space char, starting context\n",
    "generated_chars = decode(m.generate(context, max_new_tokens=500)[0].tolist())\n",
    "print(generated_chars)"
   ]
  },
  {
   "cell_type": "code",
   "execution_count": null,
   "id": "14dce5c5-6178-42d1-aeed-de53180babc2",
   "metadata": {},
   "outputs": [],
   "source": []
  }
 ],
 "metadata": {
  "kernelspec": {
   "display_name": "cuda-gpt",
   "language": "python",
   "name": "cuda"
  },
  "language_info": {
   "codemirror_mode": {
    "name": "ipython",
    "version": 3
   },
   "file_extension": ".py",
   "mimetype": "text/x-python",
   "name": "python",
   "nbconvert_exporter": "python",
   "pygments_lexer": "ipython3",
   "version": "3.12.4"
  }
 },
 "nbformat": 4,
 "nbformat_minor": 5
}
