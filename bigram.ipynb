{
 "cells": [
  {
   "cell_type": "code",
   "execution_count": 163,
   "id": "04ffd847-2d85-4ae1-aff7-fc1ebc620aff",
   "metadata": {},
   "outputs": [],
   "source": [
    "import torch\n",
    "import torch.nn as nn \n",
    "from torch.nn import functional as F"
   ]
  },
  {
   "cell_type": "code",
   "execution_count": 165,
   "id": "25f476e7-d1de-4acc-b07b-c44690d6dd40",
   "metadata": {},
   "outputs": [
    {
     "name": "stdout",
     "output_type": "stream",
     "text": [
      "cuda\n"
     ]
    }
   ],
   "source": [
    "device = 'cuda' if torch.cuda.is_available() else 'cpu'\n",
    "print(device)\n",
    "block_size = 8\n",
    "batch_size = 4\n",
    "learning_rate = 3e-4\n",
    "max_iters = 10000\n",
    "eval_iters = 250\n",
    "dropout = 0.2"
   ]
  },
  {
   "cell_type": "code",
   "execution_count": 167,
   "id": "10344598-774a-4a71-8e40-018c7385aee0",
   "metadata": {},
   "outputs": [
    {
     "name": "stdout",
     "output_type": "stream",
     "text": [
      "['\\n', ' ', '!', '(', ')', ',', '-', '.', '0', '1', '9', ':', ';', '?', 'A', 'B', 'C', 'D', 'E', 'F', 'G', 'H', 'I', 'J', 'K', 'L', 'M', 'N', 'O', 'P', 'Q', 'R', 'S', 'T', 'U', 'V', 'W', 'X', 'Y', 'Z', 'a', 'b', 'c', 'd', 'e', 'f', 'g', 'h', 'i', 'j', 'k', 'l', 'm', 'n', 'o', 'p', 'q', 'r', 's', 't', 'u', 'v', 'w', 'x', 'y', 'z', '—', '‘', '’', '“', '”', '\\ufeff']\n"
     ]
    }
   ],
   "source": [
    "with open(\"wizard_of_oz.txt\", 'r', encoding='utf-8') as f:\n",
    "    text = f.read()\n",
    "chars = sorted(set(text))\n",
    "print(chars)\n",
    "vocab_size = len(chars)"
   ]
  },
  {
   "cell_type": "code",
   "execution_count": 169,
   "id": "37e9f40d-ed4f-4621-907d-a2e49a1809ca",
   "metadata": {},
   "outputs": [],
   "source": [
    "string_to_text=  {ch:i for i , ch in enumerate(chars)}\n",
    "# Output: {'a': 0, 'b': 1, 'c': 2, 'd': 3, 'e': 4, ..., 'z': 25}\n",
    "int_to_string = {i:ch for i, ch in enumerate(chars)}\n",
    "# Output: {0: 'a', 1: 'b', 2: 'c', 3: 'd', 4: 'e', ..., 25: 'z'}\n",
    "\n",
    "encode = lambda s: [string_to_text[c] for c in s]\n",
    "# Output: [7, 4, 11, 11, 14]\n",
    "\n",
    "decode = lambda l: ''.join([int_to_string[i] for i in l])\n",
    "# Output: \"hello\""
   ]
  },
  {
   "cell_type": "code",
   "execution_count": 171,
   "id": "fb5cbd6e-e415-4e13-abe4-1cab6bd13a77",
   "metadata": {},
   "outputs": [
    {
     "name": "stdout",
     "output_type": "stream",
     "text": [
      "tensor([71, 22, 53, 59, 57, 54, 43, 60, 42, 59, 48, 54, 53,  0,  0,  0, 19, 54,\n",
      "        51, 50, 51, 54, 57, 44,  5,  1, 51, 44, 46, 44, 53, 43, 58,  5,  1, 52,\n",
      "        64, 59, 47, 58,  1, 40, 53, 43,  1, 45, 40, 48, 57, 64,  1, 59, 40, 51,\n",
      "        44, 58,  1, 47, 40, 61, 44,  1, 45, 54, 51, 51, 54, 62, 44, 43,  1, 42,\n",
      "        47, 48, 51, 43, 47, 54, 54, 43,  0, 59, 47, 57, 54, 60, 46, 47,  1, 59,\n",
      "        47, 44,  1, 40, 46, 44, 58,  5,  1, 45])\n"
     ]
    }
   ],
   "source": [
    "data = torch.tensor(encode(text), dtype=torch.long)\n",
    "print(data[:100])\n"
   ]
  },
  {
   "cell_type": "code",
   "execution_count": 173,
   "id": "d307d900-1bd1-4cb3-9123-d95bcc777aca",
   "metadata": {},
   "outputs": [],
   "source": [
    "n = int(0.8*len(data))\n",
    "train_data = data[:n]\n",
    "val_data = data[n:]"
   ]
  },
  {
   "cell_type": "code",
   "execution_count": 175,
   "id": "4d81fa5b-a0dd-42b0-ab46-a4c275156856",
   "metadata": {},
   "outputs": [
    {
     "name": "stdout",
     "output_type": "stream",
     "text": [
      "when input is tensor([71]) target is tensor(22)\n",
      "when input is tensor([71, 22]) target is tensor(53)\n",
      "when input is tensor([71, 22, 53]) target is tensor(59)\n",
      "when input is tensor([71, 22, 53, 59]) target is tensor(57)\n",
      "when input is tensor([71, 22, 53, 59, 57]) target is tensor(54)\n",
      "when input is tensor([71, 22, 53, 59, 57, 54]) target is tensor(43)\n",
      "when input is tensor([71, 22, 53, 59, 57, 54, 43]) target is tensor(60)\n",
      "when input is tensor([71, 22, 53, 59, 57, 54, 43, 60]) target is tensor(42)\n"
     ]
    }
   ],
   "source": [
    "block_size = 8\n",
    "# how a language model might be trained to predict the next token given a context.\n",
    "x = train_data[:block_size]\n",
    "y=  train_data[1:block_size+1]\n",
    "\n",
    "for t in range(block_size):\n",
    "    context = x[:t+1]\n",
    "    target = y[t]\n",
    "    print(\"when input is\", context, \"target is\", target)"
   ]
  },
  {
   "cell_type": "code",
   "execution_count": 177,
   "id": "29d79a89-4c1b-40d3-a0e1-7138c7ae85b3",
   "metadata": {},
   "outputs": [
    {
     "name": "stdout",
     "output_type": "stream",
     "text": [
      "inputs: tensor([[54,  1, 62, 44, 51, 51,  1, 43],\n",
      "        [59, 48, 52, 44,  5,  1, 62, 48],\n",
      "        [69, 28, 47,  5,  1, 59, 47, 40],\n",
      "        [33, 47, 44,  1, 36, 48, 42, 50]], device='cuda:0')\n",
      "targets: tensor([[ 1, 62, 44, 51, 51,  1, 43, 48],\n",
      "        [48, 52, 44,  5,  1, 62, 48, 59],\n",
      "        [28, 47,  5,  1, 59, 47, 40, 53],\n",
      "        [47, 44,  1, 36, 48, 42, 50, 44]], device='cuda:0')\n"
     ]
    }
   ],
   "source": [
    "def get_batch(split):\n",
    "    data = train_data if split == \"train\" else val_data\n",
    "    ix = torch.randint(len(data) - block_size, (batch_size, )) #take random index from 0 to block size\n",
    "    #ix = torch.randint(165352 - 8 , (4, )) , get randome int from 0 to 165346\n",
    "    # print(len(data), block_size, batch_size)\n",
    "    # print(ix)\n",
    "    x = torch.stack([data[i : i+block_size] for i in ix])\n",
    "    y = torch.stack([data[i+1:i+block_size+1] for i in ix])\n",
    "    x, y = x.to(device) ,y.to(device)\n",
    "    return x, y\n",
    "\n",
    "x, y = get_batch('train')\n",
    "print(\"inputs:\",x )\n",
    "print(\"targets:\" , y)"
   ]
  },
  {
   "cell_type": "code",
   "execution_count": 179,
   "id": "f9d443cb-e7d4-4b76-b1dc-1c52f30f5efd",
   "metadata": {},
   "outputs": [],
   "source": [
    "@torch.no_grad()\n",
    "def estimate_loss():\n",
    "    out= {}\n",
    "    model.eval()\n",
    "    for split in ['train', 'val']:\n",
    "        losses= torch.zeros(eval_iters)\n",
    "        for k in range(eval_iters):\n",
    "            X, Y = get_batch(split)\n",
    "            logits, loss = model(X,Y)\n",
    "            losses[k] = loss.item()\n",
    "        out[split] = losses.mean()\n",
    "    model.train()\n",
    "    return out"
   ]
  },
  {
   "cell_type": "code",
   "execution_count": 181,
   "id": "eb043dd2-172f-44a5-bed9-e7446ae3847c",
   "metadata": {},
   "outputs": [
    {
     "name": "stdout",
     "output_type": "stream",
     "text": [
      "\n",
      "FarEVtxtWj!l -\n",
      "\n",
      "Zx(xbbf-nmE.Q;0:UEyJ-eJ.L“s? TKuh9N.0d\n",
      "Sl:﻿)OeUbK”—DkRqGxsni,mdvFi“—i;lH(R.A;fxvkSmu”w:tkl”Kh1sT!afzsZDx-KmH(R;I‘:c﻿m-jx09t﻿L0“h0YIFtvTkjU)”A!a’pKMkFwiNCjMJmb—I(ZAiFwMa—S1”?—;,P9-,XX:“OL.Z;flsS::YuftUd::KeU M0!b﻿p:﻿?nfmJTB:﻿)v -(huWR.nIu“X -uhbidHO,e;m\n",
      "AmuIUfQDbNJTlRqGCwiQsqSTsQkpv—-R’S -O90-CQqo—PiNB!9Q(A﻿)TZpS-ZAnLF:uh’K9t﻿l﻿pgaqUpE‘A;”CmCqGJO—HU‘9PnI﻿-CaemwvX-s:liQkGS‘TNHOBIzkVtTBIfw0PKjN WzNEGH—‘o—;cuXtvop’?“Cyx”weZG zPXsTHeG?PKCJ-O)n-—WUiqDCwfRGgT\n",
      "JF,OB k0NVRvzJORnoMX. NS019\n",
      "tensor([[ 0,  3, 31, 70,  7, 61, 44, 12, 27, 42,  2, 70, 18, 30, 17, 17, 39, 56,\n",
      "         20, 33, 48,  4, 12, 70, 13, 13,  1,  8, 43, 43, 55, 32, 27, 61, 67, 14,\n",
      "         71,  7,  9,  6, 46, 70, 14, 64, 48, 40, 15, 69, 27, 66, 54, 42, 33,  3,\n",
      "         15,  3, 67, 20,  5, 37, 47, 25, 23, 13, 40, 46, 26, 10, 59, 40, 53,  6,\n",
      "         27, 51, 62, 36, 52, 43, 48, 48, 48, 69,  8, 46,  7, 46, 50, 32,  5, 45,\n",
      "         58, 44, 23, 11, 38,  4, 62, 69, 16, 62, 32, 33,  0,  1, 19, 63, 47, 36,\n",
      "         19, 26, 21, 18, 19, 20, 69, 16, 62,  4, 17, 29, 53, 59, 12, 34,  4, 58,\n",
      "         32, 41, 66, 60, 63, 56, 34, 42, 17,  6,  2, 53, 26, 36,  7, 27,  9, 10,\n",
      "         67, 47,  5, 28, 35, 59, 68, 48, 47,  0, 33, 47, 42, 35, 45, 12, 36, 33,\n",
      "         59, 25,  7,  6, 49,  0, 41, 48, 46, 66, 21, 28, 16, 10, 49, 10, 57, 41,\n",
      "         22, 10, 30, 40, 32, 11,  7, 71, 25, 63, 27, 69, 54, 63, 59, 37, 18, 40,\n",
      "          6, 49, 26, 52, 21,  4, 48, 63, 13, 62, 22, 55, 18, 47, 64,  2, 38, 68,\n",
      "         14, 19,  4, 28, 25, 64, 11, 13, 62, 43,  1, 46, 31, 66, 55, 53, 54, 42,\n",
      "         47, 26, 68, 25, 38, 20, 38, 33, 54, 42, 61, 70, 26, 26,  3, 31, 57, 34,\n",
      "          2, 16, 62,  7, 38, 39,  2, 10, 70, 13, 58, 32, 20,  3, 31, 56,  5, 44,\n",
      "         14, 34, 71, 55, 57, 28, 35, 44, 41, 10, 14, 24, 37, 28, 52, 38, 12,  3,\n",
      "         31, 48, 37, 46, 60, 56, 14, 68, 18, 41, 19, 21, 61, 59, 39, 34, 45, 28,\n",
      "         25, 68,  5,  1, 47, 54, 30, 50,  0, 31, 53, 56, 20, 35, 59, 54, 71, 14,\n",
      "          6,  0, 18, 35, 47, 31, 17,  8, 39, 65, 31, 23, 52, 59, 64, 56, 20, 23,\n",
      "          8, 65, 53, 54, 19, 10, 68, 59,  0, 69, 55, 43, 65,  1, 69, 42, 65, 38,\n",
      "         14, 51, 25, 64, 11, 26, 52, 24, 59, 12, 17, 68,  3,  2, 40, 39, 27, 69,\n",
      "         18, 56, 20,  9, 53, 43, 47, 55, 13,  1, 43, 53, 43, 11, 23, 33,  7, 41,\n",
      "         69, 24, 70, 39, 11, 69, 32, 24, 54, 68, 61, 59,  3, 16, 23, 24, 19, 50,\n",
      "          4, 44, 20, 17, 50, 23,  3, 16, 62, 29, 24, 58, 32, 34, 59, 28, 53, 54,\n",
      "          3, 63, 28, 10, 20, 20, 56, 20,  9, 50, 31, 52, 40, 45, 51, 30,  3, 47,\n",
      "         37, 22, 50, 18, 35, 15,  0, 69, 47, 33,  3, 13, 20, 32, 61, 67,  7,  5,\n",
      "         53,  7, 22, 26,  2, 61, 70, 40, 69, 42,  0, 69, 42, 56, 39, 27,  9, 19,\n",
      "         37, 28, 29,  0, 31, 18, 40, 37, 39, 16, 60,  1, 47, 54, 43]],\n",
      "       device='cuda:0')\n"
     ]
    }
   ],
   "source": [
    "class BigramLanguageModel(nn.Module):\n",
    "    def __init__(self, vocab_size):\n",
    "        super().__init__()\n",
    "        self.token_embedding_table = nn.Embedding(vocab_size, vocab_size)\n",
    "    \n",
    "    def forward(self, index, targets=None):\n",
    "\n",
    "        logits = self.token_embedding_table(index)\n",
    "\n",
    "        if targets is None:\n",
    "            loss = None\n",
    "        else:\n",
    "            B, T, C = logits.shape\n",
    "            #BATCH, TIME / SEQ LENGTH, VOCAB SIZE / CHANNEL\n",
    "            logits = logits.view(B*T, C)\n",
    "            #flattens the batch and time dimensions into one\n",
    "            targets= targets.view(B*T)\n",
    "            loss = F.cross_entropy(logits, targets) \n",
    "\n",
    "        return logits, loss\n",
    "\n",
    "    def generate(self, index, max_new_tokens):\n",
    "        for _ in range(max_new_tokens):\n",
    "            #get predictiosn\n",
    "            logits, loss = self.forward(index)\n",
    "            #focus on last time step\n",
    "            logits = logits[: , - 1, :] #becomes (B,C), last time sample\n",
    "            #apply softmax to get p(x)\n",
    "            probs = F.softmax(logits, dim=-1) #(B, C) where vocab dimension=[:-1]\n",
    "            #sample from dist\n",
    "            index_next = torch.multinomial(probs, num_samples=1) #(B, 1 )\n",
    "            #append smapled index to the running sequences\n",
    "            index = torch.cat((index, index_next), dim=1) # (B, T+1)\n",
    "\n",
    "        return index\n",
    "\n",
    "    def getEmbedding(self):\n",
    "        return self.token_embedding_table\n",
    "\n",
    "# c = BigramLanguageModel(vocab_size)\n",
    "# c.getEmbedding()\n",
    "\n",
    "model = BigramLanguageModel(vocab_size)\n",
    "m = model.to(device)\n",
    "\n",
    "context = torch.zeros((1,1), dtype=torch.long, device=device) #(1,1) being new space char, starting context\n",
    "generated_chars = decode(m.generate(context, max_new_tokens=500)[0].tolist())\n",
    "print(generated_chars)\n",
    "generated_chars_raw = m.generate(context, max_new_tokens=500)\n",
    "print(generated_chars_raw)\n",
    "\n"
   ]
  },
  {
   "cell_type": "code",
   "execution_count": 187,
   "id": "f47d5b55-2065-4126-8a47-e6fd4869d83f",
   "metadata": {},
   "outputs": [
    {
     "name": "stdout",
     "output_type": "stream",
     "text": [
      "step: 0 , train loss: 2.531, val loss: 2.582\n",
      "step: 250 , train loss: 2.533, val loss: 2.533\n",
      "step: 500 , train loss: 2.517, val loss: 2.519\n",
      "step: 750 , train loss: 2.533, val loss: 2.563\n",
      "step: 1000 , train loss: 2.521, val loss: 2.506\n",
      "step: 1250 , train loss: 2.508, val loss: 2.512\n",
      "step: 1500 , train loss: 2.476, val loss: 2.525\n",
      "step: 1750 , train loss: 2.507, val loss: 2.501\n",
      "step: 2000 , train loss: 2.490, val loss: 2.508\n",
      "step: 2250 , train loss: 2.479, val loss: 2.490\n",
      "step: 2500 , train loss: 2.494, val loss: 2.515\n",
      "step: 2750 , train loss: 2.477, val loss: 2.490\n",
      "step: 3000 , train loss: 2.473, val loss: 2.494\n",
      "step: 3250 , train loss: 2.468, val loss: 2.515\n",
      "step: 3500 , train loss: 2.460, val loss: 2.476\n",
      "step: 3750 , train loss: 2.479, val loss: 2.489\n",
      "step: 4000 , train loss: 2.447, val loss: 2.495\n",
      "step: 4250 , train loss: 2.474, val loss: 2.461\n",
      "step: 4500 , train loss: 2.456, val loss: 2.438\n",
      "step: 4750 , train loss: 2.446, val loss: 2.467\n",
      "step: 5000 , train loss: 2.483, val loss: 2.482\n",
      "step: 5250 , train loss: 2.469, val loss: 2.458\n",
      "step: 5500 , train loss: 2.449, val loss: 2.455\n",
      "step: 5750 , train loss: 2.451, val loss: 2.474\n",
      "step: 6000 , train loss: 2.433, val loss: 2.474\n",
      "step: 6250 , train loss: 2.437, val loss: 2.422\n",
      "step: 6500 , train loss: 2.428, val loss: 2.459\n",
      "step: 6750 , train loss: 2.463, val loss: 2.439\n",
      "step: 7000 , train loss: 2.439, val loss: 2.451\n",
      "step: 7250 , train loss: 2.421, val loss: 2.429\n",
      "step: 7500 , train loss: 2.440, val loss: 2.432\n",
      "step: 7750 , train loss: 2.421, val loss: 2.434\n",
      "step: 8000 , train loss: 2.445, val loss: 2.424\n",
      "step: 8250 , train loss: 2.423, val loss: 2.435\n",
      "step: 8500 , train loss: 2.417, val loss: 2.468\n",
      "step: 8750 , train loss: 2.446, val loss: 2.434\n",
      "step: 9000 , train loss: 2.402, val loss: 2.438\n",
      "step: 9250 , train loss: 2.397, val loss: 2.441\n",
      "step: 9500 , train loss: 2.399, val loss: 2.429\n",
      "step: 9750 , train loss: 2.412, val loss: 2.423\n",
      "2.4719080924987793\n"
     ]
    }
   ],
   "source": [
    "optimiser = torch.optim.AdamW(model.parameters(), lr=learning_rate)\n",
    "\n",
    "for iter in range(max_iters):\n",
    "    if iter % eval_iters == 0:\n",
    "        losses = estimate_loss()\n",
    "        print(f\"step: {iter} , train loss: {losses['train']:.3f}, val loss: {losses['val']:.3f}\")\n",
    "    #sample data\n",
    "    xb, yb = get_batch('train') #in, ot\n",
    "\n",
    "    #eval loss\n",
    "    logits, loss = model.forward(xb, yb)\n",
    "    optimiser.zero_grad(set_to_none = True) #enable for RNNs\n",
    "    loss.backward()\n",
    "    optimiser.step()\n",
    "print(loss.item())"
   ]
  },
  {
   "cell_type": "code",
   "execution_count": 189,
   "id": "e99b227a-e9bc-4edb-bf29-cb803a34750b",
   "metadata": {},
   "outputs": [
    {
     "name": "stdout",
     "output_type": "stream",
     "text": [
      "\n",
      "Th bea m, icthy u cke.\n",
      "\n",
      "\n",
      "p1Uxcr withk\n",
      "\n",
      "gin w p?0gow.\n",
      "thowaingKMmoousepothed ath, to W, g.\n",
      "y. t bloind bo y Aulasp. aththereele oremacu?Trealresasano fo g﻿Amilign.O0was;”fo apofid Wliry fart s ISBEmang\n",
      "f toro ton ce r hache rosond ater chad higleickes sangYxA(Roveyenonebugathay;othrther denodangrin She, thevelerye Ykel, aiothangarungogre Dormythe thall\n",
      "\n",
      "trthasarkeds sorondng.”\n",
      "L. Winound bessl--KUF( dsarthe ahereas s?, Wimme O﻿Vn me.\n",
      "h Itathasthin therl minm ind ber as, sh;”\n",
      "prine, then e heaned \n"
     ]
    }
   ],
   "source": [
    "context = torch.zeros((1,1), dtype=torch.long, device=device) #(1,1) being new space char, starting context\n",
    "generated_chars = decode(m.generate(context, max_new_tokens=500)[0].tolist())\n",
    "print(generated_chars)"
   ]
  },
  {
   "cell_type": "code",
   "execution_count": null,
   "id": "14dce5c5-6178-42d1-aeed-de53180babc2",
   "metadata": {},
   "outputs": [],
   "source": []
  }
 ],
 "metadata": {
  "kernelspec": {
   "display_name": "cuda-gpt",
   "language": "python",
   "name": "cuda"
  },
  "language_info": {
   "codemirror_mode": {
    "name": "ipython",
    "version": 3
   },
   "file_extension": ".py",
   "mimetype": "text/x-python",
   "name": "python",
   "nbconvert_exporter": "python",
   "pygments_lexer": "ipython3",
   "version": "3.12.4"
  }
 },
 "nbformat": 4,
 "nbformat_minor": 5
}
