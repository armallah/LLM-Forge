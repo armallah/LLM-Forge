{
 "cells": [
  {
   "cell_type": "code",
   "execution_count": 1,
   "id": "65412c57-577d-4d90-a7ed-3516258b8525",
   "metadata": {},
   "outputs": [],
   "source": [
    "import torch"
   ]
  },
  {
   "cell_type": "code",
   "execution_count": 5,
   "id": "17cc7d50-a6df-48cd-a9c5-e708d534394b",
   "metadata": {},
   "outputs": [
    {
     "data": {
      "text/plain": [
       "tensor([ 25,  47, -72, -83, -10,  25])"
      ]
     },
     "execution_count": 5,
     "metadata": {},
     "output_type": "execute_result"
    }
   ],
   "source": [
    "randint = torch.randint(-100, 100, (6,))\n",
    "randint"
   ]
  },
  {
   "cell_type": "code",
   "execution_count": 13,
   "id": "82c63525-9b31-49aa-9e6b-d15be6e0d6be",
   "metadata": {},
   "outputs": [
    {
     "data": {
      "text/plain": [
       "tensor([[0.1000, 1.3000],\n",
       "        [0.3000, 2.3000],\n",
       "        [4.2000, 3.1000]])"
      ]
     },
     "execution_count": 13,
     "metadata": {},
     "output_type": "execute_result"
    }
   ],
   "source": [
    "tensor = torch.tensor([[0.1, 1.3], [0.3, 2.3], [4.2, 3.1]])\n",
    "tensor"
   ]
  },
  {
   "cell_type": "code",
   "execution_count": 15,
   "id": "e9f79205-8c27-44d8-8828-20244850110b",
   "metadata": {},
   "outputs": [
    {
     "data": {
      "text/plain": [
       "tensor([[0., 0., 0., 0.],\n",
       "        [0., 0., 0., 0.],\n",
       "        [0., 0., 0., 0.],\n",
       "        [0., 0., 0., 0.]])"
      ]
     },
     "execution_count": 15,
     "metadata": {},
     "output_type": "execute_result"
    }
   ],
   "source": [
    "zeros = torch.zeros(4,4)\n",
    "zeros"
   ]
  },
  {
   "cell_type": "code",
   "execution_count": 19,
   "id": "9ca2c550-7274-40f3-8bcb-90e52940c9a9",
   "metadata": {},
   "outputs": [
    {
     "data": {
      "text/plain": [
       "tensor([0, 1, 2, 3, 4])"
      ]
     },
     "execution_count": 19,
     "metadata": {},
     "output_type": "execute_result"
    }
   ],
   "source": [
    "arange = torch.arange(5)\n",
    "arange"
   ]
  },
  {
   "cell_type": "code",
   "execution_count": 23,
   "id": "bd236bc7-1159-4fa4-9885-888df57ec215",
   "metadata": {},
   "outputs": [
    {
     "data": {
      "text/plain": [
       "tensor([ 3.0000,  4.7500,  6.5000,  8.2500, 10.0000])"
      ]
     },
     "execution_count": 23,
     "metadata": {},
     "output_type": "execute_result"
    }
   ],
   "source": [
    "linspace = torch.linspace(3, 10, steps=5)\n",
    "linspace"
   ]
  },
  {
   "cell_type": "code",
   "execution_count": 29,
   "id": "619adf3a-5cd7-4f55-906f-f7ceb1b4e975",
   "metadata": {},
   "outputs": [
    {
     "data": {
      "text/plain": [
       "tensor([1.0000e-10, 1.0000e-05, 1.0000e+00, 1.0000e+05, 1.0000e+10])"
      ]
     },
     "execution_count": 29,
     "metadata": {},
     "output_type": "execute_result"
    }
   ],
   "source": [
    "logspace = torch.logspace(-10, 10, steps=5)\n",
    "logspace"
   ]
  },
  {
   "cell_type": "code",
   "execution_count": 31,
   "id": "0f9177a5-f90c-42e1-9703-f2ce4e3b717f",
   "metadata": {},
   "outputs": [
    {
     "data": {
      "text/plain": [
       "tensor([[1., 0., 0., 0., 0.],\n",
       "        [0., 1., 0., 0., 0.],\n",
       "        [0., 0., 1., 0., 0.],\n",
       "        [0., 0., 0., 1., 0.],\n",
       "        [0., 0., 0., 0., 1.]])"
      ]
     },
     "execution_count": 31,
     "metadata": {},
     "output_type": "execute_result"
    }
   ],
   "source": [
    "eye = torch.eye(5)\n",
    "eye"
   ]
  },
  {
   "cell_type": "code",
   "execution_count": 56,
   "id": "8cdcd356-78c7-4622-a8a4-fb632a3e197f",
   "metadata": {},
   "outputs": [
    {
     "data": {
      "text/plain": [
       "tensor([[4896313056880,             0,             0],\n",
       "        [            0,             0,             0]])"
      ]
     },
     "execution_count": 56,
     "metadata": {},
     "output_type": "execute_result"
    }
   ],
   "source": [
    "a = torch.empty((2, 3), dtype=torch.int64)\n",
    "empty_like = torch.empty_like(a)\n",
    "empty_like"
   ]
  },
  {
   "cell_type": "code",
   "execution_count": 3,
   "id": "79e2fa72-bbcb-4ff8-8fc4-57c96d341ce7",
   "metadata": {},
   "outputs": [
    {
     "name": "stdout",
     "output_type": "stream",
     "text": [
      "cuda\n"
     ]
    }
   ],
   "source": [
    "#using GPU now\n",
    "import torch\n",
    "device = 'cuda' if torch.cuda.is_available() else 'cpu'\n",
    "print(device)"
   ]
  },
  {
   "cell_type": "code",
   "execution_count": 23,
   "id": "d9e718d3-ee53-4048-ad8b-fdce62b3dd32",
   "metadata": {},
   "outputs": [
    {
     "name": "stdout",
     "output_type": "stream",
     "text": [
      " 0.00000000\n"
     ]
    }
   ],
   "source": [
    "import numpy as np\n",
    "import time\n",
    "start_time = time.time()\n",
    "zeros = torch.zeros(1,1)\n",
    "end_time = time.time()\n",
    "\n",
    "elapsed_time = end_time - start_time\n",
    "print(f\"{elapsed_time: .8f}\")"
   ]
  },
  {
   "cell_type": "code",
   "execution_count": 41,
   "id": "f6643cdb-df31-4bd5-a77a-3de6fb3a8ad7",
   "metadata": {},
   "outputs": [
    {
     "name": "stdout",
     "output_type": "stream",
     "text": [
      "GPU time: 0.04466891\n",
      "CPU time:0.18059731\n"
     ]
    }
   ],
   "source": [
    "torch_rand1 = torch.rand(100,100,100,100).to(device)\n",
    "torch_rand2 = torch.rand(100,100,100,100).to(device)\n",
    "np_rand1 = torch.rand(100,100,100,100)\n",
    "np_rand2 = torch.rand(100,100,100,100)\n",
    "\n",
    "start_time = time.time()\n",
    "\n",
    "rand= (torch_rand1 @ torch_rand2)\n",
    "\n",
    "end_time = time.time()\n",
    "\n",
    "elapsed_time = end_time - start_time\n",
    "print(f\"GPU time: {elapsed_time:.8f}\")\n",
    "\n",
    "start_time = time.time()\n",
    "\n",
    "rand=  np.multiply(np_rand1, np_rand2)\n",
    "end_time = time.time()\n",
    "elapsed_time = end_time - start_time\n",
    "print(f\"CPU time:{elapsed_time:.8f}\")\n"
   ]
  },
  {
   "cell_type": "code",
   "execution_count": 75,
   "id": "27822f7f-5732-4db1-886e-cb12543e36a8",
   "metadata": {},
   "outputs": [
    {
     "name": "stdout",
     "output_type": "stream",
     "text": [
      "tensor([1, 0, 1, 0, 1, 1, 1, 1, 1, 1])\n"
     ]
    }
   ],
   "source": [
    "probabilites = torch.tensor([0.1,0.9])\n",
    "samples= torch.multinomial(probabilites, num_samples=10, replacement=True)\n",
    "print(samples)"
   ]
  },
  {
   "cell_type": "code",
   "execution_count": 85,
   "id": "47822301-5bae-4afc-882b-d604d7c1620b",
   "metadata": {},
   "outputs": [
    {
     "data": {
      "text/plain": [
       "tensor([1, 2, 3, 4, 5])"
      ]
     },
     "execution_count": 85,
     "metadata": {},
     "output_type": "execute_result"
    }
   ],
   "source": [
    "tensor = torch.tensor([1,2,3,4])\n",
    "out = torch.cat((tensor, torch.tensor([5])), dim=0)\n",
    "out"
   ]
  },
  {
   "cell_type": "code",
   "execution_count": 87,
   "id": "6a281168-2585-4153-94e6-4590fd4c5fe1",
   "metadata": {},
   "outputs": [
    {
     "data": {
      "text/plain": [
       "tensor([[1., 0., 0., 0., 0.],\n",
       "        [1., 1., 0., 0., 0.],\n",
       "        [1., 1., 1., 0., 0.],\n",
       "        [1., 1., 1., 1., 0.],\n",
       "        [1., 1., 1., 1., 1.]])"
      ]
     },
     "execution_count": 87,
     "metadata": {},
     "output_type": "execute_result"
    }
   ],
   "source": [
    "out = torch.tril(torch.ones(5,5))\n",
    "out #triagnle lower"
   ]
  },
  {
   "cell_type": "code",
   "execution_count": 89,
   "id": "e7ca1ac9-16bf-485d-9aed-5288ca6c5d95",
   "metadata": {},
   "outputs": [
    {
     "data": {
      "text/plain": [
       "tensor([[1., 1., 1., 1., 1.],\n",
       "        [0., 1., 1., 1., 1.],\n",
       "        [0., 0., 1., 1., 1.],\n",
       "        [0., 0., 0., 1., 1.],\n",
       "        [0., 0., 0., 0., 1.]])"
      ]
     },
     "execution_count": 89,
     "metadata": {},
     "output_type": "execute_result"
    }
   ],
   "source": [
    "out = torch.triu(torch.ones(5,5))\n",
    "out"
   ]
  },
  {
   "cell_type": "code",
   "execution_count": 101,
   "id": "416c7bea-51b7-46d4-badd-2692c86c0463",
   "metadata": {},
   "outputs": [
    {
     "data": {
      "text/plain": [
       "tensor([[0., 0., 0., 0., 0.],\n",
       "        [0., 0., 0., 0., 0.],\n",
       "        [0., 0., 0., 0., 0.],\n",
       "        [0., 0., 0., 0., 0.],\n",
       "        [0., 0., 0., 0., 0.]])"
      ]
     },
     "execution_count": 101,
     "metadata": {},
     "output_type": "execute_result"
    }
   ],
   "source": [
    "unmasked = torch.zeros(5,5)\n",
    "unmasked"
   ]
  },
  {
   "cell_type": "code",
   "execution_count": 107,
   "id": "fe2156f8-d8ad-4211-9e3a-c9127bd62cfe",
   "metadata": {},
   "outputs": [
    {
     "data": {
      "text/plain": [
       "tensor([[1., 0., 0., 0., 0.],\n",
       "        [1., 1., 0., 0., 0.],\n",
       "        [1., 1., 1., 0., 0.],\n",
       "        [1., 1., 1., 1., 0.],\n",
       "        [1., 1., 1., 1., 1.]])"
      ]
     },
     "execution_count": 107,
     "metadata": {},
     "output_type": "execute_result"
    }
   ],
   "source": [
    "out = torch.tril(torch.ones(5,5))\n",
    "out #triagnle lower"
   ]
  },
  {
   "cell_type": "code",
   "execution_count": 109,
   "id": "d73613db-2df9-49fb-b19f-93bbceb26eb7",
   "metadata": {},
   "outputs": [
    {
     "data": {
      "text/plain": [
       "tensor([[0., -inf, -inf, -inf, -inf],\n",
       "        [0., 0., -inf, -inf, -inf],\n",
       "        [0., 0., 0., -inf, -inf],\n",
       "        [0., 0., 0., 0., -inf],\n",
       "        [0., 0., 0., 0., 0.]])"
      ]
     },
     "execution_count": 109,
     "metadata": {},
     "output_type": "execute_result"
    }
   ],
   "source": [
    "out = torch.zeros(5,5).masked_fill(torch.tril(torch.ones(5,5)) == 0, float('-inf'))\n",
    "out\n",
    "#fills elements of the tensor with the specified value where the mask is True. if you exp^0 =1 , exp^(-inf) = 0 "
   ]
  },
  {
   "cell_type": "code",
   "execution_count": 111,
   "id": "e335afe2-252f-4ec5-98f3-831c39076e77",
   "metadata": {},
   "outputs": [
    {
     "data": {
      "text/plain": [
       "tensor([[1., 0., 0., 0., 0.],\n",
       "        [1., 1., 0., 0., 0.],\n",
       "        [1., 1., 1., 0., 0.],\n",
       "        [1., 1., 1., 1., 0.],\n",
       "        [1., 1., 1., 1., 1.]])"
      ]
     },
     "execution_count": 111,
     "metadata": {},
     "output_type": "execute_result"
    }
   ],
   "source": [
    "torch.exp(out)"
   ]
  },
  {
   "cell_type": "code",
   "execution_count": 125,
   "id": "0bf31e76-5e35-434c-84ae-299fd851b096",
   "metadata": {},
   "outputs": [
    {
     "data": {
      "text/plain": [
       "torch.Size([4, 3, 2])"
      ]
     },
     "execution_count": 125,
     "metadata": {},
     "output_type": "execute_result"
    }
   ],
   "source": [
    "input = torch.zeros(2,3,4)\n",
    "out = input.transpose(0,2)\n",
    "out.shape\n",
    "# out\n",
    "# The 0th dimension (which had size 2) becomes the 2nd dimension\n",
    "# The 2nd dimension (which had size 4) becomes the 0th dimension\n",
    "# The 1st dimension remains unchanged"
   ]
  },
  {
   "cell_type": "code",
   "execution_count": 129,
   "id": "04955ad4-2566-48db-8389-c509ce6695df",
   "metadata": {},
   "outputs": [
    {
     "data": {
      "text/plain": [
       "tensor([[1, 2, 3],\n",
       "        [4, 5, 6],\n",
       "        [7, 8, 9]])"
      ]
     },
     "execution_count": 129,
     "metadata": {},
     "output_type": "execute_result"
    }
   ],
   "source": [
    "tensor1 = torch.tensor([1,2,3])\n",
    "tensor2 = torch.tensor([4,5,6])\n",
    "tensor3 = torch.tensor([7,8,9])\n",
    "\n",
    "stacked_tensor = torch.stack([tensor1, tensor2, tensor3])\n",
    "stacked_tensor\n"
   ]
  },
  {
   "cell_type": "code",
   "execution_count": 143,
   "id": "1c510f79-66ec-44cd-914b-9170a1e78071",
   "metadata": {},
   "outputs": [
    {
     "name": "stdout",
     "output_type": "stream",
     "text": [
      "tensor([ 5.9117, -0.0589, -7.4271], grad_fn=<SqueezeBackward4>)\n"
     ]
    }
   ],
   "source": [
    "import torch.nn as nn\n",
    "sample = torch.tensor([10.,10.,10.])\n",
    "#3 in 3 out NN\n",
    "linear = nn.Linear(3,3, bias=False)\n",
    "print(linear(sample))\n",
    "#A linear layer performs the operation y = xW^T, where x is the input, W is the weight matrix, and y is the output.\n",
    "#In this case, W is a 3x3 matrix because we have 3 input features and 3 output features."
   ]
  },
  {
   "cell_type": "code",
   "execution_count": 188,
   "id": "29a36c65-2e4b-4ecf-abe6-163245de0edd",
   "metadata": {},
   "outputs": [
    {
     "name": "stdout",
     "output_type": "stream",
     "text": [
      "Input: tensor([10.,  1., 15.,  7.,  3.])\n",
      "Weight matrix:\n",
      "tensor([[ 0.3419,  0.3712, -0.1048,  0.4108, -0.0980],\n",
      "        [ 0.0902, -0.2177,  0.2626,  0.3942, -0.3281]])\n",
      "Output: tensor([5.1892, 6.4834], grad_fn=<ViewBackward0>)\n"
     ]
    }
   ],
   "source": [
    "#y1, y2, y3] = [x1, x2, x3] * [[w11, w21, w31],\n",
    "#[w12, w22, w32],\n",
    "#[w13, w23, w33]]\n",
    "sample = torch.tensor([10.,1.,15.,7.,3.])\n",
    "#3 in 3 out NN\n",
    "torch.manual_seed(42)\n",
    "linear = nn.Linear(5,2, bias=True)\n",
    "print(\"Input:\", sample)\n",
    "print(\"Weight matrix:\")\n",
    "print(linear.weight.data)\n",
    "print(\"Output:\", linear(sample))"
   ]
  },
  {
   "cell_type": "code",
   "execution_count": 196,
   "id": "75717639-98c2-4e54-98cc-3b5c6b05050d",
   "metadata": {},
   "outputs": [
    {
     "name": "stdout",
     "output_type": "stream",
     "text": [
      "tensor([0.0900, 0.2447, 0.6652])\n"
     ]
    }
   ],
   "source": [
    "import torch.nn.functional as F\n",
    "\n",
    "tensor1= torch.tensor([1.0,2.0,3.0])\n",
    "\n",
    "softmax_output = F.softmax(tensor1, dim=0)\n",
    "\n",
    "print(softmax_output)"
   ]
  },
  {
   "cell_type": "code",
   "execution_count": 202,
   "id": "c46e44e4-4deb-4d9a-9a5c-b3c9716210a0",
   "metadata": {},
   "outputs": [
    {
     "name": "stdout",
     "output_type": "stream",
     "text": [
      "torch.Size([4, 100])\n",
      "tensor([[ 2.5897e-01, -5.3577e-01, -5.8940e-01,  1.4103e+00, -3.2721e-01,\n",
      "         -1.7970e+00, -9.2104e-01,  8.1022e-02,  5.1170e-01,  1.3740e+00,\n",
      "          1.3280e+00, -4.0752e-01,  5.3139e-01, -5.2285e-01,  4.5224e-01,\n",
      "         -1.1178e+00,  6.9460e-01,  1.8655e-02,  1.3379e+00,  1.4958e+00,\n",
      "         -7.5454e-01,  1.1942e+00,  1.4012e-01,  8.1728e-01, -5.6504e-02,\n",
      "          1.2392e+00, -1.2220e+00,  4.0095e-01, -1.0369e+00, -2.2301e-01,\n",
      "         -2.5741e-01, -9.7404e-01, -5.8896e-01, -1.4460e+00, -1.6957e+00,\n",
      "          1.2778e+00, -4.8842e-01,  1.3952e+00, -3.8633e-01, -6.2839e-01,\n",
      "         -1.0512e+00,  1.1215e+00,  1.1948e+00, -1.4438e-02, -4.3947e-01,\n",
      "          3.3961e-01, -8.6851e-01, -8.1770e-02, -6.4503e-01, -1.0731e+00,\n",
      "          2.1166e+00,  7.8002e-01,  6.3839e-02, -6.0368e-01, -1.1356e+00,\n",
      "          1.2744e+00,  6.0330e-01, -5.2966e-01, -3.2592e-02, -7.9852e-01,\n",
      "         -3.9951e-01,  9.1159e-01, -6.1190e-02,  1.2157e+00, -4.5210e-01,\n",
      "         -1.7126e+00,  4.3010e-01, -1.7012e+00,  1.1828e+00,  9.5119e-01,\n",
      "         -4.6365e-01,  1.2711e+00,  1.8282e+00,  1.0560e+00, -8.3664e-01,\n",
      "          9.0272e-01,  7.2040e-01, -1.6280e-02, -1.1639e-01,  3.7601e-01,\n",
      "         -2.1592e+00, -2.3300e-01, -5.5306e-01,  9.4012e-01, -6.5016e-01,\n",
      "         -3.9339e-01, -2.6415e-01, -5.4205e-01, -8.6156e-01, -2.6142e+00,\n",
      "         -1.1970e+00,  5.3439e-01,  1.0494e+00,  5.9321e-02, -1.0367e+00,\n",
      "          6.1320e-01, -3.1675e-01,  2.8045e-01, -1.7112e-01,  8.0504e-01],\n",
      "        [ 9.7066e-01, -2.3684e-01, -1.3807e+00,  1.7842e-01, -7.9864e-01,\n",
      "         -1.1749e+00, -7.2396e-02, -7.4614e-01, -2.7708e-01, -1.0893e+00,\n",
      "          7.5955e-01,  5.0650e-01,  1.7565e+00, -5.1488e-01,  2.6047e-01,\n",
      "         -6.8633e-01, -1.1038e+00,  1.1050e+00, -4.8046e-01,  5.6469e-01,\n",
      "          2.6309e-01, -1.4191e-01, -2.9684e-01,  6.0808e-01,  3.8372e-01,\n",
      "         -3.4146e-01,  5.9671e-01, -1.0447e+00, -1.8593e+00,  1.1528e+00,\n",
      "          1.6138e+00,  9.1463e-01,  7.7177e-02, -7.1622e-01,  8.4855e-01,\n",
      "         -7.3833e-01,  4.3269e-01,  1.3254e+00,  3.9164e-01, -6.5446e-01,\n",
      "         -1.0469e+00,  4.0901e-01, -3.9270e-01,  1.4914e-01, -6.7858e-01,\n",
      "         -1.4737e+00, -1.2784e+00,  9.9226e-01,  1.0674e+00,  4.5139e-01,\n",
      "         -5.6941e-01, -9.2449e-01, -1.3520e-01,  6.3983e-01, -6.2261e-01,\n",
      "         -1.2013e+00,  6.9007e-01, -1.4470e+00, -1.5934e-01,  1.2166e+00,\n",
      "          1.0267e+00,  8.1879e-01,  1.2871e+00,  1.1005e+00, -6.3960e-01,\n",
      "          1.7516e+00,  1.2211e+00, -6.6669e-02, -7.6406e-01, -1.1644e+00,\n",
      "          1.3007e+00,  8.8316e-01,  1.0245e+00,  2.1743e+00,  3.7143e-01,\n",
      "         -5.3243e-01, -6.7291e-01,  9.1962e-01,  2.3686e-01, -6.7225e-01,\n",
      "         -2.0789e+00,  1.4806e+00, -1.0028e+00,  6.8701e-01, -3.0772e-01,\n",
      "         -3.3610e-01,  3.0888e-01, -5.4456e-01,  1.4476e+00,  1.8300e+00,\n",
      "         -7.3537e-01, -1.2166e+00,  1.2807e+00, -8.0254e-01, -8.1999e-01,\n",
      "          2.6478e-02, -3.3281e-01, -3.1256e-01, -3.4979e-01, -1.6264e-01],\n",
      "        [-5.7570e-01, -1.3547e-01, -1.2314e+00,  3.9836e-01,  3.6467e-01,\n",
      "         -6.4335e-01, -1.4648e+00, -1.4161e+00,  3.9190e-01, -1.5883e+00,\n",
      "         -8.9836e-01, -2.3741e-01,  2.1406e-01, -1.0367e-01, -9.4043e-01,\n",
      "         -4.3297e-01, -2.5783e-01,  4.3819e-01,  7.7854e-01, -5.0482e-02,\n",
      "         -2.2936e+00,  1.4810e+00, -9.9351e-02, -2.5138e+00, -2.1898e-01,\n",
      "         -1.7264e-02, -1.6432e-01, -1.3560e+00,  3.2874e-01,  1.2269e+00,\n",
      "          2.8259e-01,  8.1930e-01, -5.1736e-02,  7.3185e-01,  8.5918e-01,\n",
      "         -5.7389e-01,  1.1195e+00,  4.7205e-01,  1.6211e+00, -9.5044e-01,\n",
      "         -8.7559e-01, -1.7505e+00, -1.8958e+00,  1.2467e+00,  2.8343e-01,\n",
      "         -1.3236e+00, -3.0517e-01,  8.5406e-01,  7.5606e-01,  1.0171e+00,\n",
      "          2.4786e-01, -2.0544e-01, -1.2723e+00, -3.6809e-01,  7.3267e-01,\n",
      "         -3.5378e-01,  2.7298e-01, -3.1959e-01,  8.1744e-01, -2.1962e+00,\n",
      "         -9.0933e-01,  1.3569e-01, -5.1045e-03,  1.0498e+00,  6.9116e-01,\n",
      "          1.5458e-01,  1.1857e+00,  7.6801e-02, -1.0101e-01,  8.5396e-02,\n",
      "         -7.9428e-01, -5.5010e-01, -6.0113e-01, -1.7935e-01, -4.5224e-01,\n",
      "          2.0665e+00,  2.3708e-03, -2.6466e-01, -7.7889e-01,  1.7289e+00,\n",
      "         -1.1231e+00,  9.1796e-02,  2.1380e+00, -9.0101e-01,  5.6408e-01,\n",
      "          1.3473e-01,  8.2104e-01, -9.1548e-01, -2.8232e-01,  4.0128e-01,\n",
      "          3.4748e-01, -6.1824e-02,  2.8070e-01, -1.3991e+00,  1.4891e+00,\n",
      "          1.0277e-01,  9.3567e-01, -4.7523e-01, -1.6682e+00,  9.4544e-01],\n",
      "        [ 6.4870e-01, -4.1017e-01,  9.5322e-01, -2.5266e+00,  8.6727e-01,\n",
      "          1.6337e-01, -6.0258e-01,  6.6948e-01,  4.2823e-01, -1.6368e-01,\n",
      "          7.5126e-01, -1.2868e-02, -7.7552e-01, -1.0361e+00,  3.7993e-01,\n",
      "          8.0253e-01,  7.1196e-01, -2.9626e-01,  1.0521e-01,  4.7722e-01,\n",
      "         -1.7493e-01, -2.2959e+00,  3.6501e-01,  1.2654e+00, -6.5823e-01,\n",
      "         -5.6667e-01, -4.9040e-01,  1.0531e+00, -1.2444e+00,  7.7761e-01,\n",
      "          4.2455e-01,  4.3780e-01,  6.7915e-02, -2.1980e+00, -2.3895e-03,\n",
      "         -1.0853e+00, -1.0374e+00, -8.8498e-01, -8.9288e-01, -5.2193e-01,\n",
      "          1.1329e+00,  1.1738e+00,  8.9294e-01, -5.0642e-01, -5.8034e-01,\n",
      "         -6.6390e-01, -8.1521e-01,  1.0332e+00, -2.8407e-01, -5.2457e-01,\n",
      "          2.5138e-01, -1.7480e+00, -3.0557e-01, -9.5587e-01, -1.5186e-01,\n",
      "          6.5207e-01, -1.6278e+00,  6.7967e-01, -7.5483e-01,  3.1255e-01,\n",
      "         -6.7320e-01, -1.7721e+00,  4.4977e-01,  5.4352e-02, -1.4056e+00,\n",
      "         -8.4903e-02, -1.6183e+00,  2.6115e-01,  1.3922e+00, -6.1177e-01,\n",
      "          1.6486e+00, -4.2221e-01,  8.1404e-01, -1.0893e+00, -1.0925e+00,\n",
      "          1.2951e+00,  2.2245e+00, -1.4334e+00, -1.8967e+00,  1.1190e+00,\n",
      "         -6.9769e-01,  3.2990e+00,  2.0545e+00, -4.9684e-01,  2.8934e-01,\n",
      "          2.5061e+00, -1.6926e+00, -1.1213e+00,  8.3663e-01, -1.6215e+00,\n",
      "          4.3888e-01,  8.1945e-01, -2.5628e-01, -6.0406e-02,  8.9220e-01,\n",
      "         -1.0360e-01,  1.2845e+00,  6.5786e-01,  4.4921e-01, -4.5663e-01]],\n",
      "       grad_fn=<EmbeddingBackward0>)\n"
     ]
    }
   ],
   "source": [
    "vocab_size = 1000\n",
    "embedding_dim = 100\n",
    "embedding = nn.Embedding(vocab_size, embedding_dim)\n",
    "\n",
    "input_indices = torch.LongTensor([1,5,3,2])\n",
    "\n",
    "embedded_output = embedding(input_indices)\n",
    "\n",
    "print(embedded_output.shape)\n",
    "print(embedded_output)"
   ]
  },
  {
   "cell_type": "code",
   "execution_count": 210,
   "id": "5e491aef-5e59-4d39-9df6-465c02dc6b83",
   "metadata": {},
   "outputs": [
    {
     "name": "stdout",
     "output_type": "stream",
     "text": [
      "tensor([[ 27,  30,  33],\n",
      "        [ 61,  68,  75],\n",
      "        [ 95, 106, 117]])\n",
      "tensor([[ 27,  30,  33],\n",
      "        [ 61,  68,  75],\n",
      "        [ 95, 106, 117]])\n"
     ]
    }
   ],
   "source": [
    "a = torch.tensor([[1,2],[3,4],[5,6]])\n",
    "b = torch.tensor([[7,8,9],[10,11,12]])\n",
    "\n",
    "print(torch.matmul(a , b))\n",
    "print(a @ b)"
   ]
  },
  {
   "cell_type": "code",
   "execution_count": 11,
   "id": "2f34853a-80a0-4662-8d27-002670b04aad",
   "metadata": {},
   "outputs": [],
   "source": [
    "import torch\n",
    "import torch.nn as nn\n",
    "from torch.nn import functional as F\n",
    "\n"
   ]
  },
  {
   "cell_type": "code",
   "execution_count": 22,
   "id": "799b62b7-4d78-48e6-a05b-90004b823ad2",
   "metadata": {},
   "outputs": [
    {
     "name": "stdout",
     "output_type": "stream",
     "text": [
      "tensor([1, 5, 3, 2])\n",
      "tensor([1, 5, 3, 2])\n"
     ]
    }
   ],
   "source": [
    "p = torch.LongTensor([1,5,3,2])\n",
    "print(p)\n",
    "\n",
    "l = torch.tensor([1,5,3,2])\n",
    "print(l)"
   ]
  },
  {
   "cell_type": "code",
   "execution_count": 68,
   "id": "9d0a04aa-c268-426b-97a9-3cbc2dcdd6a7",
   "metadata": {},
   "outputs": [
    {
     "data": {
      "text/plain": [
       "tensor([[[0., 0., 0.],\n",
       "         [0., 0., 0.]],\n",
       "\n",
       "        [[0., 0., 0.],\n",
       "         [0., 0., 0.]],\n",
       "\n",
       "        [[0., 0., 0.],\n",
       "         [0., 0., 0.]],\n",
       "\n",
       "        [[0., 0., 0.],\n",
       "         [0., 0., 0.]],\n",
       "\n",
       "        [[0., 0., 0.],\n",
       "         [0., 0., 0.]],\n",
       "\n",
       "        [[0., 0., 0.],\n",
       "         [0., 0., 0.]]])"
      ]
     },
     "execution_count": 68,
     "metadata": {},
     "output_type": "execute_result"
    }
   ],
   "source": [
    "x = torch.zeros(6,2,3)\n",
    "x"
   ]
  },
  {
   "cell_type": "code",
   "execution_count": 106,
   "id": "5d78e107-ecab-45c3-b74a-5cf07652fb2e",
   "metadata": {},
   "outputs": [],
   "source": [
    "import torch.nn as  nn\n",
    "x = nn.Embedding(72,72)"
   ]
  },
  {
   "cell_type": "code",
   "execution_count": 108,
   "id": "c5bdcf65-a907-4235-a1f5-0554321d5187",
   "metadata": {},
   "outputs": [
    {
     "data": {
      "text/plain": [
       "Embedding(72, 72)"
      ]
     },
     "execution_count": 108,
     "metadata": {},
     "output_type": "execute_result"
    }
   ],
   "source": [
    "x\n"
   ]
  },
  {
   "cell_type": "code",
   "execution_count": 124,
   "id": "7dbd02b9-47ff-448e-b389-2cfcb888ae81",
   "metadata": {},
   "outputs": [
    {
     "data": {
      "text/plain": [
       "torch.Size([5, 1, 72])"
      ]
     },
     "execution_count": 124,
     "metadata": {},
     "output_type": "execute_result"
    }
   ],
   "source": [
    "y =x(torch.tensor([[3],[1],[1],[44],[1]]))\n",
    "y.shape"
   ]
  },
  {
   "cell_type": "code",
   "execution_count": 142,
   "id": "7ddfbf93-adc2-48ae-8981-35fcfe55b8c4",
   "metadata": {},
   "outputs": [],
   "source": [
    "import torch\n",
    "import torch.nn as nn\n",
    "from torch.nn import functional as F\n",
    "\n",
    "\n",
    "vocab_size = 6\n"
   ]
  },
  {
   "cell_type": "code",
   "execution_count": 144,
   "id": "dc4865ad-6e4e-49f6-be46-8054a051a0ae",
   "metadata": {},
   "outputs": [
    {
     "data": {
      "text/plain": [
       "Embedding(6, 6)"
      ]
     },
     "execution_count": 144,
     "metadata": {},
     "output_type": "execute_result"
    }
   ],
   "source": [
    "nn.Embedding(vocab_size, vocab_size)\n"
   ]
  },
  {
   "cell_type": "code",
   "execution_count": null,
   "id": "a4822b8c-385e-4ae9-9499-11f8b28b7e2d",
   "metadata": {},
   "outputs": [],
   "source": []
  },
  {
   "cell_type": "code",
   "execution_count": null,
   "id": "64064e5b-ed6d-4e64-8b32-e75565050659",
   "metadata": {},
   "outputs": [],
   "source": []
  }
 ],
 "metadata": {
  "kernelspec": {
   "display_name": "cuda-gpt",
   "language": "python",
   "name": "cuda"
  },
  "language_info": {
   "codemirror_mode": {
    "name": "ipython",
    "version": 3
   },
   "file_extension": ".py",
   "mimetype": "text/x-python",
   "name": "python",
   "nbconvert_exporter": "python",
   "pygments_lexer": "ipython3",
   "version": "3.12.4"
  }
 },
 "nbformat": 4,
 "nbformat_minor": 5
}
